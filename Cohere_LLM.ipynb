{
  "nbformat": 4,
  "nbformat_minor": 0,
  "metadata": {
    "colab": {
      "provenance": []
    },
    "kernelspec": {
      "name": "python3",
      "display_name": "Python 3"
    },
    "language_info": {
      "name": "python"
    }
  },
  "cells": [
    {
      "cell_type": "code",
      "execution_count": null,
      "metadata": {
        "id": "HwqU8g2wyBNO"
      },
      "outputs": [],
      "source": [
        "API_KEY = \"<API_key>\""
      ]
    },
    {
      "cell_type": "code",
      "source": [
        "!pip install cohere"
      ],
      "metadata": {
        "colab": {
          "base_uri": "https://localhost:8080/"
        },
        "id": "7PukzH1eyVpZ",
        "outputId": "74e1b9c3-b93b-4ca1-b704-e9160bc39057"
      },
      "execution_count": null,
      "outputs": [
        {
          "output_type": "stream",
          "name": "stdout",
          "text": [
            "Collecting cohere\n",
            "  Downloading cohere-5.15.0-py3-none-any.whl.metadata (3.4 kB)\n",
            "Collecting fastavro<2.0.0,>=1.9.4 (from cohere)\n",
            "  Downloading fastavro-1.10.0-cp311-cp311-manylinux_2_17_x86_64.manylinux2014_x86_64.whl.metadata (5.5 kB)\n",
            "Requirement already satisfied: httpx>=0.21.2 in /usr/local/lib/python3.11/dist-packages (from cohere) (0.28.1)\n",
            "Collecting httpx-sse==0.4.0 (from cohere)\n",
            "  Downloading httpx_sse-0.4.0-py3-none-any.whl.metadata (9.0 kB)\n",
            "Requirement already satisfied: pydantic>=1.9.2 in /usr/local/lib/python3.11/dist-packages (from cohere) (2.11.4)\n",
            "Requirement already satisfied: pydantic-core<3.0.0,>=2.18.2 in /usr/local/lib/python3.11/dist-packages (from cohere) (2.33.2)\n",
            "Requirement already satisfied: requests<3.0.0,>=2.0.0 in /usr/local/lib/python3.11/dist-packages (from cohere) (2.32.3)\n",
            "Requirement already satisfied: tokenizers<1,>=0.15 in /usr/local/lib/python3.11/dist-packages (from cohere) (0.21.1)\n",
            "Collecting types-requests<3.0.0,>=2.0.0 (from cohere)\n",
            "  Downloading types_requests-2.32.0.20250515-py3-none-any.whl.metadata (2.1 kB)\n",
            "Requirement already satisfied: typing_extensions>=4.0.0 in /usr/local/lib/python3.11/dist-packages (from cohere) (4.13.2)\n",
            "Requirement already satisfied: anyio in /usr/local/lib/python3.11/dist-packages (from httpx>=0.21.2->cohere) (4.9.0)\n",
            "Requirement already satisfied: certifi in /usr/local/lib/python3.11/dist-packages (from httpx>=0.21.2->cohere) (2025.4.26)\n",
            "Requirement already satisfied: httpcore==1.* in /usr/local/lib/python3.11/dist-packages (from httpx>=0.21.2->cohere) (1.0.9)\n",
            "Requirement already satisfied: idna in /usr/local/lib/python3.11/dist-packages (from httpx>=0.21.2->cohere) (3.10)\n",
            "Requirement already satisfied: h11>=0.16 in /usr/local/lib/python3.11/dist-packages (from httpcore==1.*->httpx>=0.21.2->cohere) (0.16.0)\n",
            "Requirement already satisfied: annotated-types>=0.6.0 in /usr/local/lib/python3.11/dist-packages (from pydantic>=1.9.2->cohere) (0.7.0)\n",
            "Requirement already satisfied: typing-inspection>=0.4.0 in /usr/local/lib/python3.11/dist-packages (from pydantic>=1.9.2->cohere) (0.4.0)\n",
            "Requirement already satisfied: charset-normalizer<4,>=2 in /usr/local/lib/python3.11/dist-packages (from requests<3.0.0,>=2.0.0->cohere) (3.4.2)\n",
            "Requirement already satisfied: urllib3<3,>=1.21.1 in /usr/local/lib/python3.11/dist-packages (from requests<3.0.0,>=2.0.0->cohere) (2.4.0)\n",
            "Requirement already satisfied: huggingface-hub<1.0,>=0.16.4 in /usr/local/lib/python3.11/dist-packages (from tokenizers<1,>=0.15->cohere) (0.31.2)\n",
            "Requirement already satisfied: filelock in /usr/local/lib/python3.11/dist-packages (from huggingface-hub<1.0,>=0.16.4->tokenizers<1,>=0.15->cohere) (3.18.0)\n",
            "Requirement already satisfied: fsspec>=2023.5.0 in /usr/local/lib/python3.11/dist-packages (from huggingface-hub<1.0,>=0.16.4->tokenizers<1,>=0.15->cohere) (2025.3.2)\n",
            "Requirement already satisfied: packaging>=20.9 in /usr/local/lib/python3.11/dist-packages (from huggingface-hub<1.0,>=0.16.4->tokenizers<1,>=0.15->cohere) (24.2)\n",
            "Requirement already satisfied: pyyaml>=5.1 in /usr/local/lib/python3.11/dist-packages (from huggingface-hub<1.0,>=0.16.4->tokenizers<1,>=0.15->cohere) (6.0.2)\n",
            "Requirement already satisfied: tqdm>=4.42.1 in /usr/local/lib/python3.11/dist-packages (from huggingface-hub<1.0,>=0.16.4->tokenizers<1,>=0.15->cohere) (4.67.1)\n",
            "Requirement already satisfied: sniffio>=1.1 in /usr/local/lib/python3.11/dist-packages (from anyio->httpx>=0.21.2->cohere) (1.3.1)\n",
            "Downloading cohere-5.15.0-py3-none-any.whl (259 kB)\n",
            "\u001b[2K   \u001b[90m━━━━━━━━━━━━━━━━━━━━━━━━━━━━━━━━━━━━━━━━\u001b[0m \u001b[32m259.5/259.5 kB\u001b[0m \u001b[31m11.0 MB/s\u001b[0m eta \u001b[36m0:00:00\u001b[0m\n",
            "\u001b[?25hDownloading httpx_sse-0.4.0-py3-none-any.whl (7.8 kB)\n",
            "Downloading fastavro-1.10.0-cp311-cp311-manylinux_2_17_x86_64.manylinux2014_x86_64.whl (3.3 MB)\n",
            "\u001b[2K   \u001b[90m━━━━━━━━━━━━━━━━━━━━━━━━━━━━━━━━━━━━━━━━\u001b[0m \u001b[32m3.3/3.3 MB\u001b[0m \u001b[31m66.7 MB/s\u001b[0m eta \u001b[36m0:00:00\u001b[0m\n",
            "\u001b[?25hDownloading types_requests-2.32.0.20250515-py3-none-any.whl (20 kB)\n",
            "Installing collected packages: types-requests, httpx-sse, fastavro, cohere\n",
            "Successfully installed cohere-5.15.0 fastavro-1.10.0 httpx-sse-0.4.0 types-requests-2.32.0.20250515\n"
          ]
        }
      ]
    },
    {
      "cell_type": "code",
      "source": [
        "import cohere\n",
        "\n",
        "co = cohere.ClientV2(api_key=API_KEY)\n",
        "\n",
        "res = co.chat(\n",
        "    model=\"command-a-03-2025\",\n",
        "    messages=[\n",
        "        {\n",
        "            \"role\": \"user\",\n",
        "            \"content\": \"What is Generative AI.? \",\n",
        "        }\n",
        "    ],\n",
        ")\n",
        "\n",
        "print(res.message.content[0].text)\n",
        "# \"The Ultimate Guide to API Design: Best Practices for Building Robust and Scalable APIs\"\n"
      ],
      "metadata": {
        "colab": {
          "base_uri": "https://localhost:8080/"
        },
        "id": "IOfnTy0lyG05",
        "outputId": "520dfa5c-6e8b-4cef-c1b5-d4455e095683"
      },
      "execution_count": null,
      "outputs": [
        {
          "output_type": "stream",
          "name": "stdout",
          "text": [
            "Generative AI refers to a category of artificial intelligence systems that are designed to generate new content, such as text, images, audio, video, or other data, based on patterns and structures learned from existing data. Unlike traditional AI systems that are primarily focused on analyzing or classifying data, generative AI creates new outputs that are similar to, but not identical to, the data it was trained on.\n",
            "\n",
            "### Key Characteristics of Generative AI:\n",
            "1. **Content Creation**: It produces original content, such as writing essays, composing music, designing images, or creating videos.\n",
            "2. **Learning from Data**: It is trained on large datasets to understand patterns, styles, and structures.\n",
            "3. **Creativity**: It can mimic human creativity by generating novel and diverse outputs.\n",
            "4. **Versatility**: It can be applied across various domains, including art, entertainment, marketing, healthcare, and more.\n",
            "\n",
            "### Common Techniques in Generative AI:\n",
            "1. **Generative Adversarial Networks (GANs)**:\n",
            "   - Consist of two neural networks: a generator (creates data) and a discriminator (evaluates data).\n",
            "   - They work together in a competitive manner to improve the quality of generated outputs.\n",
            "\n",
            "2. **Variational Autoencoders (VAEs)**:\n",
            "   - Encode input data into a latent space and then decode it to generate new data.\n",
            "   - Focus on learning a probabilistic distribution of the data.\n",
            "\n",
            "3. **Transformer Models**:\n",
            "   - Use self-attention mechanisms to process sequential data, such as text.\n",
            "   - Examples include GPT (Generative Pre-trained Transformer) models for text generation.\n",
            "\n",
            "4. **Diffusion Models**:\n",
            "   - Gradually add noise to data and then learn to reverse the process to generate new samples.\n",
            "   - Used in image and audio generation.\n",
            "\n",
            "### Applications of Generative AI:\n",
            "- **Text Generation**: Writing articles, stories, or code (e.g., GPT, ChatGPT).\n",
            "- **Image Generation**: Creating realistic images or artwork (e.g., DALL·E, MidJourney).\n",
            "- **Audio Generation**: Composing music or generating speech (e.g., Jukebox, WaveNet).\n",
            "- **Video Generation**: Producing synthetic videos or animations.\n",
            "- **Data Augmentation**: Generating synthetic data for training machine learning models.\n",
            "- **Personalization**: Creating tailored content for users in marketing or entertainment.\n",
            "\n",
            "### Challenges and Ethical Considerations:\n",
            "- **Bias**: Generated content may reflect biases present in the training data.\n",
            "- **Misinformation**: Potential for creating fake news, deepfakes, or misleading content.\n",
            "- **Intellectual Property**: Questions about ownership and copyright of AI-generated content.\n",
            "- **Resource Intensity**: Training generative models often requires significant computational power and data.\n",
            "\n",
            "Generative AI is a rapidly evolving field with immense potential to transform industries and enhance human creativity, but it also requires careful consideration of its ethical and societal implications.\n"
          ]
        }
      ]
    },
    {
      "cell_type": "code",
      "source": [
        "\n",
        "\n",
        "system_message = \"You respond concisely, in about 5 words or less\"\n",
        "\n",
        "res = co.chat(\n",
        "    model=\"command-a-03-2025\",\n",
        "    messages=[\n",
        "        {\"role\": \"system\", \"content\": system_message},\n",
        "        {\n",
        "            \"role\": \"user\",\n",
        "            \"content\": \"Write a title for a blog post about API design. Only output the title text.\",\n",
        "        },\n",
        "    ],  # \"Designing Perfect APIs\"\n",
        ")\n",
        "\n",
        "print(res.message.content[0].text)\n"
      ],
      "metadata": {
        "colab": {
          "base_uri": "https://localhost:8080/"
        },
        "id": "uiRKGRpoylAJ",
        "outputId": "b5756c61-f90a-4505-95d4-9c9d1a02b9d3"
      },
      "execution_count": null,
      "outputs": [
        {
          "output_type": "stream",
          "name": "stdout",
          "text": [
            "Crafting Elegant APIs: Best Practices\n"
          ]
        }
      ]
    },
    {
      "cell_type": "code",
      "source": [
        "\n",
        "\n",
        "system_message = \"You respond concisely, in about 5 words or less\"\n",
        "\n",
        "res = co.chat(\n",
        "    model=\"command-a-03-2025\",\n",
        "    messages=[\n",
        "        {\"role\": \"system\", \"content\": system_message},\n",
        "        {\n",
        "            \"role\": \"user\",\n",
        "            \"content\": \"Write a title for a blog post about API design. Only output the title text.\",\n",
        "        },\n",
        "        {\"role\": \"assistant\", \"content\": \"Designing Perfect APIs\"},\n",
        "        {\n",
        "            \"role\": \"user\",\n",
        "            \"content\": \"Another one about generative AI.\",\n",
        "        },\n",
        "    ],\n",
        ")\n",
        "\n",
        "# \"AI: The Generative Age\"\n",
        "print(res.message.content[0].text)\n"
      ],
      "metadata": {
        "colab": {
          "base_uri": "https://localhost:8080/"
        },
        "id": "k3EVx7u_y2Br",
        "outputId": "142a8e83-ff88-43e5-e9e1-75d3c2eda040"
      },
      "execution_count": null,
      "outputs": [
        {
          "output_type": "stream",
          "name": "stdout",
          "text": [
            "Generative AI: Revolutionizing Creativity\n"
          ]
        }
      ]
    },
    {
      "cell_type": "code",
      "source": [
        "\n",
        "\n",
        "res = co.chat(\n",
        "    model=\"command-a-03-2025\",\n",
        "    messages=[\n",
        "        {\n",
        "            \"role\": \"user\",\n",
        "            \"content\": \"Generate a JSON describing a person, with the fields 'name' and 'age'\",\n",
        "        }\n",
        "    ],\n",
        "    response_format={\"type\": \"json_object\"},\n",
        ")\n",
        "\n",
        "print(res.message.content[0].text)\n"
      ],
      "metadata": {
        "colab": {
          "base_uri": "https://localhost:8080/"
        },
        "id": "cJtRVWPNzCn5",
        "outputId": "1cbfe4f6-fb84-4d30-bc9a-c3e068103df3"
      },
      "execution_count": null,
      "outputs": [
        {
          "output_type": "stream",
          "name": "stdout",
          "text": [
            "{\n",
            "  \"name\": \"John Doe\",\n",
            "  \"age\": 30,\n",
            "  \"address\": {\n",
            "    \"street\": \"123 Main St\",\n",
            "    \"city\": \"Anytown\",\n",
            "    \"state\": \"CA\",\n",
            "    \"postalCode\": \"12345\"\n",
            "  },\n",
            "  \"contact\": {\n",
            "    \"email\": \"johndoe@example.com\",\n",
            "    \"phone\": \"555-123-4567\"\n",
            "  }\n",
            "}\n"
          ]
        }
      ]
    },
    {
      "cell_type": "code",
      "source": [
        "res = co.chat(\n",
        "    model=\"command-a-03-2025\",\n",
        "    messages=[\n",
        "        {\n",
        "            \"role\": \"user\",\n",
        "            \"content\": \"Generate a JSON describing a book, with the fields 'title' and 'author' and 'publication_year'\",\n",
        "        }\n",
        "    ],\n",
        "    response_format={\n",
        "        \"type\": \"json_object\",\n",
        "        \"schema\": {\n",
        "            \"type\": \"object\",\n",
        "            \"properties\": {\n",
        "                \"title\": {\"type\": \"string\"},\n",
        "                \"author\": {\"type\": \"string\"},\n",
        "                \"publication_year\": {\"type\": \"integer\"},\n",
        "            },\n",
        "            \"required\": [\"title\", \"author\", \"publication_year\"],\n",
        "        },\n",
        "    },\n",
        ")\n",
        "\n",
        "print(res.message.content[0].text)\n"
      ],
      "metadata": {
        "colab": {
          "base_uri": "https://localhost:8080/"
        },
        "id": "BjyImVAc0BVu",
        "outputId": "8f23429b-4c33-4423-a2f0-f2215310d6b4"
      },
      "execution_count": null,
      "outputs": [
        {
          "output_type": "stream",
          "name": "stderr",
          "text": [
            "WARNING:cohere.client:The `response_format.schema` parameter is an experimental feature and may change in future releases.\n",
            "To suppress this warning, set `log_warning_experimental_features=False` when initializing the client.\n"
          ]
        },
        {
          "output_type": "stream",
          "name": "stdout",
          "text": [
            "{\n",
            "  \"title\": \"The Great Gatsby\",\n",
            "  \"author\": \"F. Scott Fitzgerald\",\n",
            "  \"publication_year\": 1925\n",
            "}\n"
          ]
        }
      ]
    },
    {
      "cell_type": "code",
      "source": [],
      "metadata": {
        "id": "0MsW4ubk0Ih9"
      },
      "execution_count": null,
      "outputs": []
    }
  ]
}